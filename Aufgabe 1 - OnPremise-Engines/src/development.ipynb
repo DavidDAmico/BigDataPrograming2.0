{
 "cells": [
  {
   "cell_type": "code",
   "execution_count": 3,
   "metadata": {},
   "outputs": [
    {
     "ename": "AnalysisException",
     "evalue": "[PATH_NOT_FOUND] Path does not exist: file:/Users/daviddamico/Desktop/Schreibtisch – MacBook Pro von David D./5. Semester/BigDataPrograming2.0/Aufgabe 1 - OnPremise-Engines/src/Aufgabe 1 - OnPremise-Engines/data/prices.csv.",
     "output_type": "error",
     "traceback": [
      "\u001b[0;31m---------------------------------------------------------------------------\u001b[0m",
      "\u001b[0;31mAnalysisException\u001b[0m                         Traceback (most recent call last)",
      "Cell \u001b[0;32mIn[3], line 8\u001b[0m\n\u001b[1;32m      5\u001b[0m spark \u001b[39m=\u001b[39m SparkSession\u001b[39m.\u001b[39mbuilder\u001b[39m.\u001b[39mappName(\u001b[39m\"\u001b[39m\u001b[39mTankstellen Analyse\u001b[39m\u001b[39m\"\u001b[39m)\u001b[39m.\u001b[39mgetOrCreate()\n\u001b[1;32m      7\u001b[0m \u001b[39m# Daten laden\u001b[39;00m\n\u001b[0;32m----> 8\u001b[0m preise \u001b[39m=\u001b[39m spark\u001b[39m.\u001b[39;49mread\u001b[39m.\u001b[39;49mcsv(\u001b[39m\"\u001b[39;49m\u001b[39mAufgabe 1 - OnPremise-Engines/data/prices.csv\u001b[39;49m\u001b[39m\"\u001b[39;49m, header\u001b[39m=\u001b[39;49m\u001b[39mTrue\u001b[39;49;00m, inferSchema\u001b[39m=\u001b[39;49m\u001b[39mTrue\u001b[39;49;00m)\n\u001b[1;32m      9\u001b[0m stationen \u001b[39m=\u001b[39m spark\u001b[39m.\u001b[39mread\u001b[39m.\u001b[39mcsv(\u001b[39m\"\u001b[39m\u001b[39mAufgabe 1 - OnPremise-Engines/data/stations.csv\u001b[39m\u001b[39m\"\u001b[39m, header\u001b[39m=\u001b[39m\u001b[39mTrue\u001b[39;00m, inferSchema\u001b[39m=\u001b[39m\u001b[39mTrue\u001b[39;00m)\n\u001b[1;32m     11\u001b[0m \u001b[39m# 1. Tankstelle mit der stärksten Preisschwankung\u001b[39;00m\n",
      "File \u001b[0;32m~/.local/share/virtualenvs/BigDataPrograming2.0-OJypBrML/lib/python3.11/site-packages/pyspark/sql/readwriter.py:740\u001b[0m, in \u001b[0;36mDataFrameReader.csv\u001b[0;34m(self, path, schema, sep, encoding, quote, escape, comment, header, inferSchema, ignoreLeadingWhiteSpace, ignoreTrailingWhiteSpace, nullValue, nanValue, positiveInf, negativeInf, dateFormat, timestampFormat, maxColumns, maxCharsPerColumn, maxMalformedLogPerPartition, mode, columnNameOfCorruptRecord, multiLine, charToEscapeQuoteEscaping, samplingRatio, enforceSchema, emptyValue, locale, lineSep, pathGlobFilter, recursiveFileLookup, modifiedBefore, modifiedAfter, unescapedQuoteHandling)\u001b[0m\n\u001b[1;32m    738\u001b[0m \u001b[39mif\u001b[39;00m \u001b[39mtype\u001b[39m(path) \u001b[39m==\u001b[39m \u001b[39mlist\u001b[39m:\n\u001b[1;32m    739\u001b[0m     \u001b[39massert\u001b[39;00m \u001b[39mself\u001b[39m\u001b[39m.\u001b[39m_spark\u001b[39m.\u001b[39m_sc\u001b[39m.\u001b[39m_jvm \u001b[39mis\u001b[39;00m \u001b[39mnot\u001b[39;00m \u001b[39mNone\u001b[39;00m\n\u001b[0;32m--> 740\u001b[0m     \u001b[39mreturn\u001b[39;00m \u001b[39mself\u001b[39m\u001b[39m.\u001b[39m_df(\u001b[39mself\u001b[39;49m\u001b[39m.\u001b[39;49m_jreader\u001b[39m.\u001b[39;49mcsv(\u001b[39mself\u001b[39;49m\u001b[39m.\u001b[39;49m_spark\u001b[39m.\u001b[39;49m_sc\u001b[39m.\u001b[39;49m_jvm\u001b[39m.\u001b[39;49mPythonUtils\u001b[39m.\u001b[39;49mtoSeq(path)))\n\u001b[1;32m    741\u001b[0m \u001b[39melif\u001b[39;00m \u001b[39misinstance\u001b[39m(path, RDD):\n\u001b[1;32m    743\u001b[0m     \u001b[39mdef\u001b[39;00m \u001b[39mfunc\u001b[39m(iterator):\n",
      "File \u001b[0;32m~/.local/share/virtualenvs/BigDataPrograming2.0-OJypBrML/lib/python3.11/site-packages/py4j/java_gateway.py:1322\u001b[0m, in \u001b[0;36mJavaMember.__call__\u001b[0;34m(self, *args)\u001b[0m\n\u001b[1;32m   1316\u001b[0m command \u001b[39m=\u001b[39m proto\u001b[39m.\u001b[39mCALL_COMMAND_NAME \u001b[39m+\u001b[39m\\\n\u001b[1;32m   1317\u001b[0m     \u001b[39mself\u001b[39m\u001b[39m.\u001b[39mcommand_header \u001b[39m+\u001b[39m\\\n\u001b[1;32m   1318\u001b[0m     args_command \u001b[39m+\u001b[39m\\\n\u001b[1;32m   1319\u001b[0m     proto\u001b[39m.\u001b[39mEND_COMMAND_PART\n\u001b[1;32m   1321\u001b[0m answer \u001b[39m=\u001b[39m \u001b[39mself\u001b[39m\u001b[39m.\u001b[39mgateway_client\u001b[39m.\u001b[39msend_command(command)\n\u001b[0;32m-> 1322\u001b[0m return_value \u001b[39m=\u001b[39m get_return_value(\n\u001b[1;32m   1323\u001b[0m     answer, \u001b[39mself\u001b[39;49m\u001b[39m.\u001b[39;49mgateway_client, \u001b[39mself\u001b[39;49m\u001b[39m.\u001b[39;49mtarget_id, \u001b[39mself\u001b[39;49m\u001b[39m.\u001b[39;49mname)\n\u001b[1;32m   1325\u001b[0m \u001b[39mfor\u001b[39;00m temp_arg \u001b[39min\u001b[39;00m temp_args:\n\u001b[1;32m   1326\u001b[0m     \u001b[39mif\u001b[39;00m \u001b[39mhasattr\u001b[39m(temp_arg, \u001b[39m\"\u001b[39m\u001b[39m_detach\u001b[39m\u001b[39m\"\u001b[39m):\n",
      "File \u001b[0;32m~/.local/share/virtualenvs/BigDataPrograming2.0-OJypBrML/lib/python3.11/site-packages/pyspark/errors/exceptions/captured.py:185\u001b[0m, in \u001b[0;36mcapture_sql_exception.<locals>.deco\u001b[0;34m(*a, **kw)\u001b[0m\n\u001b[1;32m    181\u001b[0m converted \u001b[39m=\u001b[39m convert_exception(e\u001b[39m.\u001b[39mjava_exception)\n\u001b[1;32m    182\u001b[0m \u001b[39mif\u001b[39;00m \u001b[39mnot\u001b[39;00m \u001b[39misinstance\u001b[39m(converted, UnknownException):\n\u001b[1;32m    183\u001b[0m     \u001b[39m# Hide where the exception came from that shows a non-Pythonic\u001b[39;00m\n\u001b[1;32m    184\u001b[0m     \u001b[39m# JVM exception message.\u001b[39;00m\n\u001b[0;32m--> 185\u001b[0m     \u001b[39mraise\u001b[39;00m converted \u001b[39mfrom\u001b[39;00m \u001b[39mNone\u001b[39;00m\n\u001b[1;32m    186\u001b[0m \u001b[39melse\u001b[39;00m:\n\u001b[1;32m    187\u001b[0m     \u001b[39mraise\u001b[39;00m\n",
      "\u001b[0;31mAnalysisException\u001b[0m: [PATH_NOT_FOUND] Path does not exist: file:/Users/daviddamico/Desktop/Schreibtisch – MacBook Pro von David D./5. Semester/BigDataPrograming2.0/Aufgabe 1 - OnPremise-Engines/src/Aufgabe 1 - OnPremise-Engines/data/prices.csv."
     ]
    }
   ],
   "source": [
    "from pyspark.sql import SparkSession\n",
    "from pyspark.sql.functions import col, avg, max, min, hour\n",
    "\n",
    "# Spark-Session erstellen\n",
    "spark = SparkSession.builder.appName(\"Tankstellen Analyse\").getOrCreate()\n",
    "\n",
    "# Daten laden\n",
    "preise = spark.read.csv(\"Aufgabe 1 - OnPremise-Engines/data/prices.csv\", header=True, inferSchema=True)\n",
    "stationen = spark.read.csv(\"Aufgabe 1 - OnPremise-Engines/data/stations.csv\", header=True, inferSchema=True)\n",
    "\n",
    "# 1. Tankstelle mit der stärksten Preisschwankung\n",
    "preisschwankungen = preise.groupBy(\"station_id\").agg(\n",
    "    (max(\"price\") - min(\"price\")).alias(\"schwankung\")\n",
    ")\n",
    "max_schwankung = preisschwankungen.orderBy(col(\"schwankung\").desc()).first()\n",
    "beste_tankstelle = stationen.filter(col(\"station_id\") == max_schwankung[\"station_id\"]).first()\n",
    "\n",
    "print(f\"Tankstelle mit der stärksten Schwankung: {beste_tankstelle['station_name']}\")\n",
    "\n",
    "# 2. Durchschnittspreis pro Tag\n",
    "durchschnittspreis_pro_tag = preise.groupBy(\"station_id\", \"date\").agg(\n",
    "    avg(\"price\").alias(\"durchschnittspreis\")\n",
    ")\n",
    "\n",
    "durchschnittspreis_pro_tag.show()\n",
    "\n",
    "# 3. Tageszeiten, die vermieden werden sollten\n",
    "preise_mit_stunde = preise.withColumn(\"hour\", hour(col(\"timestamp\")))\n",
    "durchschnittspreis_pro_stunde = preise_mit_stunde.groupBy(\"hour\").agg(\n",
    "    avg(\"price\").alias(\"durchschnittspreis\")\n",
    ")\n",
    "\n",
    "durchschnittspreis_pro_stunde.orderBy(col(\"durchschnittspreis\").desc()).show()\n",
    "\n",
    "# Ergebnisse speichern\n",
    "preisschwankungen.write.csv(\"output/preisschwankungen\", header=True)\n",
    "durchschnittspreis_pro_tag.write.csv(\"output/durchschnittspreis_pro_tag\", header=True)\n",
    "durchschnittspreis_pro_stunde.write.csv(\"output/durchschnittspreis_pro_stunde\", header=True)\n",
    "\n",
    "# Spark-Session beenden\n",
    "spark.stop()\n"
   ]
  }
 ],
 "metadata": {
  "kernelspec": {
   "display_name": "BigDataPrograming2.0-OJypBrML",
   "language": "python",
   "name": "python3"
  },
  "language_info": {
   "codemirror_mode": {
    "name": "ipython",
    "version": 3
   },
   "file_extension": ".py",
   "mimetype": "text/x-python",
   "name": "python",
   "nbconvert_exporter": "python",
   "pygments_lexer": "ipython3",
   "version": "3.11.5"
  },
  "orig_nbformat": 4
 },
 "nbformat": 4,
 "nbformat_minor": 2
}
